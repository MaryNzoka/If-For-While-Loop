{
 "cells": [
  {
   "cell_type": "markdown",
   "id": "eda4b26f",
   "metadata": {},
   "source": [
    "## If, For, Else"
   ]
  },
  {
   "cell_type": "code",
   "execution_count": 2,
   "id": "a72ed2d9",
   "metadata": {},
   "outputs": [
    {
     "name": "stdout",
     "output_type": "stream",
     "text": [
      "Let's start with if\n"
     ]
    }
   ],
   "source": [
    "print(\"Let's start with 'If'\")"
   ]
  },
  {
   "cell_type": "code",
   "execution_count": 7,
   "id": "030c91e4",
   "metadata": {},
   "outputs": [
    {
     "name": "stdout",
     "output_type": "stream",
     "text": [
      "x is greater than 1\n"
     ]
    }
   ],
   "source": [
    "x = 2\n",
    "if x > 1:\n",
    "    print(\"x is greater than 1\")\n",
    "else: \n",
    "    print(\"x is less than 1\")"
   ]
  },
  {
   "cell_type": "code",
   "execution_count": 13,
   "id": "a361f3a3",
   "metadata": {},
   "outputs": [
    {
     "name": "stdout",
     "output_type": "stream",
     "text": [
      "Let's go to 'For Loops'\n"
     ]
    }
   ],
   "source": [
    "print(\"Let's go to 'For Loops'\")"
   ]
  },
  {
   "cell_type": "code",
   "execution_count": 14,
   "id": "61c36383",
   "metadata": {},
   "outputs": [
    {
     "name": "stdout",
     "output_type": "stream",
     "text": [
      "birch, teak, oak, pine\n"
     ]
    }
   ],
   "source": [
    "woods = [\"birch, teak, oak, pine\"]\n",
    "for woods in woods:\n",
    "    print(woods)"
   ]
  },
  {
   "cell_type": "code",
   "execution_count": 15,
   "id": "59d2d6dc",
   "metadata": {},
   "outputs": [
    {
     "name": "stdout",
     "output_type": "stream",
     "text": [
      "Lets go for the 'While Loop'\n"
     ]
    }
   ],
   "source": [
    "print(\"Lets go for the 'While Loop'\")"
   ]
  },
  {
   "cell_type": "code",
   "execution_count": null,
   "id": "f5b04ad9",
   "metadata": {},
   "outputs": [],
   "source": [
    "x = 1\n",
    "while x < 5:\n",
    "    print(x)\n",
    "    x += 2"
   ]
  },
  {
   "cell_type": "code",
   "execution_count": null,
   "id": "20126198",
   "metadata": {},
   "outputs": [],
   "source": []
  }
 ],
 "metadata": {
  "kernelspec": {
   "display_name": "Python 3 (ipykernel)",
   "language": "python",
   "name": "python3"
  },
  "language_info": {
   "codemirror_mode": {
    "name": "ipython",
    "version": 3
   },
   "file_extension": ".py",
   "mimetype": "text/x-python",
   "name": "python",
   "nbconvert_exporter": "python",
   "pygments_lexer": "ipython3",
   "version": "3.11.2"
  }
 },
 "nbformat": 4,
 "nbformat_minor": 5
}
